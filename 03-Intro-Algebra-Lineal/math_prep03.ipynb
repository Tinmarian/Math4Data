{
 "cells": [
  {
   "attachments": {},
   "cell_type": "markdown",
   "metadata": {},
   "source": [
    "**1)** Responde Verdadero o Falso\n",
    "\n",
    "    a- Los vectores se pueden describir en base a su módulo y dirección\n",
    "    b- Los vectores se pueden describir en base a sus componentes cartesianos\n",
    "    c- Dos vectores pueden tener misma dirección pero distinto sentido\n",
    "    d- Dos vectores no pueden tener mismo módulo pero direcciones distintas"
   ]
  },
  {
   "cell_type": "code",
   "execution_count": 1,
   "metadata": {},
   "outputs": [
    {
     "name": "stdout",
     "output_type": "stream",
     "text": [
      "a)  True\n",
      "b)  True\n",
      "c)  True\n",
      "d)  False\n"
     ]
    }
   ],
   "source": [
    "print('a) ', True)\n",
    "\n",
    "print('b) ', True)\n",
    "\n",
    "print('c) ', True)\n",
    "\n",
    "print('d) ', False)"
   ]
  },
  {
   "attachments": {},
   "cell_type": "markdown",
   "metadata": {},
   "source": [
    "**2)** ¿Cuál es el módulo de los siguientes vectores?\n",
    "\n",
    "    a- (3,4)    = 5\n",
    "    b- (1,1)    = 1\n",
    "    c- (10,10)  = \n",
    "    d- (-3,-4)"
   ]
  },
  {
   "cell_type": "code",
   "execution_count": 3,
   "metadata": {},
   "outputs": [
    {
     "name": "stdout",
     "output_type": "stream",
     "text": [
      "a)  5\n",
      "b)  1\n",
      "c)  14.142135623730951\n",
      "d)  5\n"
     ]
    }
   ],
   "source": [
    "print('a) ', 5)\n",
    "\n",
    "print('b) ', 1)\n",
    "\n",
    "print('c) ', 200**(1/2))\n",
    "\n",
    "print('d) ', 5)"
   ]
  },
  {
   "attachments": {},
   "cell_type": "markdown",
   "metadata": {},
   "source": [
    "**3)** Resolver las siguientes multiplicaciones de vectores por escalares\n",
    "\n",
    "    a- (1,1) * 3\n",
    "    b- (12,15) * 1/3\n",
    "    c- (10,1) * 10\n",
    "    d- (4,5) * 5"
   ]
  },
  {
   "cell_type": "code",
   "execution_count": 4,
   "metadata": {},
   "outputs": [
    {
     "name": "stdout",
     "output_type": "stream",
     "text": [
      "a) (3,3)\n",
      "b) (4,5)\n",
      "c) (100,10)\n",
      "d) (20,25)\n"
     ]
    }
   ],
   "source": [
    "print('a) (3,3)')\n",
    "\n",
    "print('b) (4,5)')\n",
    "\n",
    "print('c) (100,10)')\n",
    "\n",
    "print('d) (20,25)')"
   ]
  },
  {
   "attachments": {},
   "cell_type": "markdown",
   "metadata": {},
   "source": [
    "**4)** Responder Verdadero o Falso\n",
    "\n",
    "    a- El producto escalar de dos vectores obtiene multiplicando entre sí la norma de cada vector y el coseno del ángulo que se forma entre ellos.\n",
    "    b- El producto escalar siempre da como resultado un escalar.\n",
    "    c- El producto vectorial da como resultado otro vector.\n",
    "    d- Si dos vectores son paralelos, el angulo entre ellos es 90 grados."
   ]
  },
  {
   "cell_type": "code",
   "execution_count": 5,
   "metadata": {},
   "outputs": [
    {
     "name": "stdout",
     "output_type": "stream",
     "text": [
      "a)  True\n",
      "b)  True\n",
      "c)  True\n",
      "d)  False\n"
     ]
    }
   ],
   "source": [
    "print('a) ', True)\n",
    "\n",
    "print('b) ', True)\n",
    "\n",
    "print('c) ', True)\n",
    "\n",
    "print('d) ', False)"
   ]
  },
  {
   "attachments": {},
   "cell_type": "markdown",
   "metadata": {},
   "source": [
    "**5)** ¿Que dimensiones tienen las siguientes matrices?\n",
    "\n",
    "    a- 5 filas y 7 columnas\n",
    "    b- 2 columnas y 9 filas\n",
    "    c- 3 filas y 3 columnas"
   ]
  },
  {
   "cell_type": "code",
   "execution_count": 6,
   "metadata": {},
   "outputs": [
    {
     "name": "stdout",
     "output_type": "stream",
     "text": [
      "a) 5x7\n",
      "a) 9x2\n",
      "a) 3x3\n"
     ]
    }
   ],
   "source": [
    "print('a) 5x7')\n",
    "\n",
    "print('a) 9x2')\n",
    "\n",
    "print('a) 3x3')"
   ]
  },
  {
   "attachments": {},
   "cell_type": "markdown",
   "metadata": {},
   "source": [
    "**6)** Responder con Si/No si es posible realizar las siguientes operaciones entre matrices:\n",
    "\n",
    "    a- (3 x 4) + (1 x 2)    No\n",
    "    b- (1 x 1) + (1 x 1)    Sí\n",
    "    c- (8 x 8) - (1 x 1)    No\n",
    "    d- (4 x 2) - (2 x 3)    Sí\n",
    "    d- (4 x 2) * (2 x 3)    Sí"
   ]
  },
  {
   "attachments": {},
   "cell_type": "markdown",
   "metadata": {},
   "source": [
    "**7)** Realizar la multiplicación entre las siguientes matrices:\n",
    "\n",
    "a-\n",
    "![unaImagenConBoxShadow](../_src/assets/ejercicios/producto1.png)\n",
    "\n",
    "b-\n",
    "![unaImagenConBoxShadow](../_src/assets/ejercicios/producto2.png)\n",
    "\n",
    "c-\n",
    "![unaImagenConBoxShadow](../_src/assets/ejercicios/producto3.png)\n",
    "\n",
    "d-\n",
    "![unaImagenConBoxShadow](../_src/assets/ejercicios/producto4.png)\n",
    "\n",
    "e-\n",
    "![unaImagenConBoxShadow](../_src/assets/ejercicios/producto5.png)\n"
   ]
  },
  {
   "cell_type": "code",
   "execution_count": 4,
   "metadata": {},
   "outputs": [
    {
     "name": "stdout",
     "output_type": "stream",
     "text": [
      " Primera \n",
      " [[ 6 10]\n",
      " [-3 -5]]  \n",
      " Segunda \n",
      " [[-2 -2]\n",
      " [14 17]] \n",
      " Tercera \n",
      " [[ 30 -26  10]\n",
      " [ 36 -31  14]\n",
      " [ 42 -36  18]] \n",
      " Cuarta \n",
      " [[ 3  0  0]\n",
      " [ 0 -2  0]\n",
      " [ 0  0 -7]] \n",
      " Quinta \n",
      " [[-8  4  7]\n",
      " [-2  0 -1]\n",
      " [-1 -2 -6]] \n"
     ]
    }
   ],
   "source": [
    "import numpy as np\n",
    "\n",
    "a1 = np.array([[2],[-1]])\n",
    "a2 = np.array([[3,5]])\n",
    "A = np.dot(a1,a2)\n",
    "b1 = np.array([[2,0],[1,3]])\n",
    "b2 = np.array([[-1,-1],[5,6]])\n",
    "B = np.dot(b1,b2)\n",
    "c1 = np.array([[1,4,7],[2,5,8],[3,6,9]])\n",
    "c2 = np.array([[1,-1,2],[2,-1,2],[3,-3,0]])\n",
    "C = np.dot(c1,c2)\n",
    "d1 = np.array([[3,0,0],[0,2,0],[0,0,1]])\n",
    "d2 = np.array([[1,0,0],[0,-1,0],[0,0,-7]])\n",
    "D = np.dot(d1,d2)\n",
    "e1 = np.array([[1,2],[-1,0],[-3,-1]])\n",
    "e2 = np.array([[2,0,1],[-5,2,3]])\n",
    "E = np.dot(e1,e2)\n",
    "\n",
    "print(f' Primera \\n {A}  \\n Segunda \\n {B} \\n Tercera \\n {C} \\n Cuarta \\n {D} \\n Quinta \\n {E} ')\n"
   ]
  },
  {
   "attachments": {},
   "cell_type": "markdown",
   "metadata": {},
   "source": [
    "**7)** Realizar la multiplicación entre las siguientes matrices:\n",
    "\n",
    "a-\n",
    "![unaImagenConBoxShadow](../_src/assets/ejercicios/producto1.png)\n",
    "<br>\n",
    "![unaImagenConBoxShadow](../_src/assets/ejercicios/producto1_sol.png)\n",
    "<br>\n",
    "<br>\n",
    "b-\n",
    "![unaImagenConBoxShadow](../_src/assets/ejercicios/producto2.png)\n",
    "<br>\n",
    "![unaImagenConBoxShadow](../_src/assets/ejercicios/producto2_sol.png)\n",
    "<br>\n",
    "<br>\n",
    "c-\n",
    "![unaImagenConBoxShadow](../_src/assets/ejercicios/producto3.png)\n",
    "<br>\n",
    "![unaImagenConBoxShadow](../_src/assets/ejercicios/producto3_sol.png)\n",
    "<br>\n",
    "<br>\n",
    "d-\n",
    "![unaImagenConBoxShadow](../_src/assets/ejercicios/producto4.png)\n",
    "<br>\n",
    "![unaImagenConBoxShadow](../_src/assets/ejercicios/producto4_sol.png)\n",
    "<br>\n",
    "<br>\n",
    "e-\n",
    "![unaImagenConBoxShadow](../_src/assets/ejercicios/producto5.png)\n",
    "<br>\n",
    "![unaImagenConBoxShadow](../_src/assets/ejercicios/producto5_sol.png)\n",
    "<br>\n",
    "<br>"
   ]
  }
 ],
 "metadata": {
  "kernelspec": {
   "display_name": "base",
   "language": "python",
   "name": "python3"
  },
  "language_info": {
   "codemirror_mode": {
    "name": "ipython",
    "version": 3
   },
   "file_extension": ".py",
   "mimetype": "text/x-python",
   "name": "python",
   "nbconvert_exporter": "python",
   "pygments_lexer": "ipython3",
   "version": "3.9.12"
  },
  "orig_nbformat": 4,
  "vscode": {
   "interpreter": {
    "hash": "f71dd4705a736018957681c456fcc6da9f5cf1a960a30170a8f06a1681403c6a"
   }
  }
 },
 "nbformat": 4,
 "nbformat_minor": 2
}

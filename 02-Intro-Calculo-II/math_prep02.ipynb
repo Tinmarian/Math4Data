{
 "cells": [
  {
   "attachments": {},
   "cell_type": "markdown",
   "metadata": {},
   "source": [
    "**1)** Calcula los siguientes límites. Redondea la respuesta a su PRIMER número decimal o responde inf en caso de infinito o -inf en caso de menos infinito.\n",
    "\n",
    "    a- lim x->2 de f(x) = 2*x + 1\n",
    "    b- lim x->0+ de f(x) = 1 - 1/x\n",
    "    c- lim k->inf de g(k) = 10 + 1/log(k)\n",
    "    d- lim h->10 de g(h) = 1/(h-10)\n",
    "    e- lim t->5 de d(t) = 25-t^2\n",
    "    f- lim x->-inf de f(x) = 1 - 1/x si x>0\n",
    "                            -3 si x<=0"
   ]
  },
  {
   "cell_type": "code",
   "execution_count": 1,
   "metadata": {},
   "outputs": [
    {
     "name": "stdout",
     "output_type": "stream",
     "text": [
      "a)  5\n",
      "b) -inf\n",
      "c) inf\n",
      "d) inf\n",
      "e)  0\n",
      "f)  -3\n"
     ]
    }
   ],
   "source": [
    "print('a) ', 5)\n",
    "\n",
    "print('b) -inf')\n",
    "\n",
    "print('c) inf')\n",
    "\n",
    "print('d) inf')\n",
    "\n",
    "print('e) ', 0)\n",
    "\n",
    "print('f) ', -3)"
   ]
  },
  {
   "attachments": {},
   "cell_type": "markdown",
   "metadata": {},
   "source": [
    "**2)** Responde V o F - continuidad\n",
    "\n",
    "    a- La función g(j) = j + 3 es continua en todo su dominio\n",
    "    b- La función g(j) = 3 * j - 2 no esta definida en todo R\n",
    "       f(x) = 1 - 1/x si x>0\n",
    "              -3 si x<=0\n",
    "       c- posee una discontinuidad evitable en x=0\n",
    "       d- posee una discontinuidad inevitable en x=0\n",
    "       e- es igual a -3 en x=0\n",
    "       f- es continua para x>2"
   ]
  },
  {
   "cell_type": "code",
   "execution_count": 2,
   "metadata": {},
   "outputs": [
    {
     "name": "stdout",
     "output_type": "stream",
     "text": [
      "a)  True\n",
      "b) False\n",
      "c) False\n",
      "d)  True\n",
      "e)  True\n",
      "f)  True\n"
     ]
    }
   ],
   "source": [
    "print('a) ', True)\n",
    "\n",
    "print('b)', False)\n",
    "\n",
    "print('c)', False)\n",
    "\n",
    "print('d) ', True)\n",
    "\n",
    "print('e) ', True)\n",
    "\n",
    "print('f) ', True)"
   ]
  },
  {
   "attachments": {},
   "cell_type": "markdown",
   "metadata": {},
   "source": [
    "**3)** Responde V o F - derivabilidad\n",
    "\n",
    "    a- La función m(j) = log(j) no es derivable en todo su dominio\n",
    "    b- Una función continua en todo su dominio es derivable en todo su dominio\n",
    "    c- Una función h(j) es continua en j=3 si es derivable en j=3\n",
    "       f(x) = x si x>0\n",
    "              -x si x<=0\n",
    "       d- es continua en x=0\n",
    "       e- es derivable en x=0\n",
    "       f- es derivable con derivada negativa en x=1\n",
    "    g- La derivada de b(l) = l^2 en l = 0 es positiva\n",
    "    h- La derivada de k(l) = l^2 en l = 0 es 0\n",
    "    i- La derivada de b(r) = r^2 en r = 3 es positiva"
   ]
  },
  {
   "cell_type": "code",
   "execution_count": 3,
   "metadata": {},
   "outputs": [
    {
     "name": "stdout",
     "output_type": "stream",
     "text": [
      "a)  False\n",
      "b) True\n",
      "c) True\n",
      "d)  False\n",
      "e)  False\n",
      "f)  False\n",
      "g)  True\n",
      "h) True\n",
      "i) True\n"
     ]
    }
   ],
   "source": [
    "print('a) ', False)\n",
    "\n",
    "print('b)', True)\n",
    "\n",
    "print('c)', True)\n",
    "\n",
    "print('d) ', False)\n",
    "\n",
    "print('e) ', False)\n",
    "\n",
    "print('f) ', False)\n",
    "\n",
    "print('g) ', True)\n",
    "\n",
    "print('h)', True)\n",
    "\n",
    "print('i)', True)"
   ]
  },
  {
   "attachments": {},
   "cell_type": "markdown",
   "metadata": {},
   "source": [
    "**4)** Usando una tabla de derivadas, calcula el valor de la derivada en el punto indicado y redondea la respuesta a su PRIMER número decimal.\n",
    "\n",
    "    a- f(x) = 2*x + 1, f'(2) = 2\n",
    "    b- f(x) = x^2, f'(0) = 0\n",
    "    c- f(x) = x^3 - 2, f'(0) = -2"
   ]
  },
  {
   "attachments": {},
   "cell_type": "markdown",
   "metadata": {},
   "source": [
    "**5)** Responde V o F en cada caso:\n",
    "\n",
    "    La función    f(x) = (x-1)^2 si x>0\n",
    "                         (-1)*(x+1)^2 si x<=0\n",
    "    \n",
    "    a- Tiene un máximo en x=1\n",
    "    b- Tiene un máximo en x=-1\n",
    "    c- Es continua en x=0\n",
    "    d- Tiene una discontinuidad inevitable finita en x=0\n",
    "    e- Tiene un mínimo en x=-1\n",
    "    f- f'(4)>0"
   ]
  },
  {
   "cell_type": "code",
   "execution_count": 4,
   "metadata": {},
   "outputs": [
    {
     "name": "stdout",
     "output_type": "stream",
     "text": [
      "a)  False\n",
      "b) False\n",
      "c) False\n",
      "d)  True\n",
      "e)  True\n",
      "f)  True\n"
     ]
    }
   ],
   "source": [
    "print('a) ', False)\n",
    "\n",
    "print('b)', False)\n",
    "\n",
    "print('c)', False)\n",
    "\n",
    "print('d) ', True)\n",
    "\n",
    "print('e) ', True)\n",
    "\n",
    "print('f) ', True)"
   ]
  }
 ],
 "metadata": {
  "kernelspec": {
   "display_name": "base",
   "language": "python",
   "name": "python3"
  },
  "language_info": {
   "codemirror_mode": {
    "name": "ipython",
    "version": 3
   },
   "file_extension": ".py",
   "mimetype": "text/x-python",
   "name": "python",
   "nbconvert_exporter": "python",
   "pygments_lexer": "ipython3",
   "version": "3.9.12"
  },
  "orig_nbformat": 4,
  "vscode": {
   "interpreter": {
    "hash": "f71dd4705a736018957681c456fcc6da9f5cf1a960a30170a8f06a1681403c6a"
   }
  }
 },
 "nbformat": 4,
 "nbformat_minor": 2
}

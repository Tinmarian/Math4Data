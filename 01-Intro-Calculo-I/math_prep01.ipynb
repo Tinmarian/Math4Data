{
 "cells": [
  {
   "cell_type": "markdown",
   "metadata": {},
   "source": [
    "**1)** Responde para cada número con N, E, Re, Ra o I según sea Naturales, Enteros, Reales,\n",
    "Racionales o Irracionales. Responder con la categoría más restrictiva, ej: 1 -> R: N.\n",
    "\n",
    "\n",
    "    a- 198; N\n",
    "    b- 4; N\n",
    "    c- -3.1; I\n",
    "    d- -1/4; Ra\n",
    "    e- 10.0; Ra\n",
    "    f- 2*e; I\n",
    "    g- -123.0004; I"
   ]
  },
  {
   "cell_type": "markdown",
   "metadata": {},
   "source": [
    "**2)** Calcula los siguientes porcentajes y y redondea la respuesta a su PRIMER número decimal\n",
    "\n",
    "    a- 30% de 2000 \n",
    "    b- 2000% de 30\n",
    "    c- 10% de 150\n",
    "    d- 25.5% de 27\n",
    "    e- 25.5% de 0.9"
   ]
  },
  {
   "cell_type": "code",
   "execution_count": 10,
   "metadata": {},
   "outputs": [
    {
     "name": "stdout",
     "output_type": "stream",
     "text": [
      "a)  600\n",
      "b)  600\n",
      "c) 15.0\n",
      "d)  7\n",
      "e) 0.2\n"
     ]
    }
   ],
   "source": [
    "# a) \n",
    "\n",
    "a = .3*2000\n",
    "a = round(a)\n",
    "print('a) ',a)\n",
    "\n",
    "# b)\n",
    "\n",
    "b = 20*30\n",
    "print('b) ',b)\n",
    "\n",
    "# c)\n",
    "\n",
    "c = .1*150\n",
    "print('c)', c)\n",
    "\n",
    "# d)\n",
    "\n",
    "d = 0.255*27\n",
    "d = round(d)\n",
    "print('d) ', d)\n",
    "\n",
    "# e)\n",
    "\n",
    "e = .255*0.9\n",
    "e = round(e,1)\n",
    "print('e)',e)"
   ]
  },
  {
   "cell_type": "markdown",
   "metadata": {},
   "source": [
    "**3)** Calcula la relación porcentual entre los siguientes números y redondea la respuesta a su PRIMER número decimal. Ej: X% de 20 es 2 -> R: 10\n",
    "\n",
    "    a- X% de 150 es 50\n",
    "    b- X% de 4.0 es 100.0\n",
    "    c- X% de 16/4 es 2\n",
    "    d- X% de 10*Pi es 2*Pi\n",
    "    e- X% de 3500 es 2500"
   ]
  },
  {
   "cell_type": "code",
   "execution_count": null,
   "metadata": {},
   "outputs": [],
   "source": []
  },
  {
   "cell_type": "markdown",
   "metadata": {},
   "source": [
    "**4)** De shopping compré varias prendas por un valor de 350$. Había una promo del 30% sobre la cual se aplico luego\n",
    "un descuento con la tarjeta de fidelidad. Finalmente pagué 196$. Redondea la respuesta a su PRIMER número decimal.\n",
    "\n",
    "    a- De qué porcentaje fue el descuento con la tarjeta de fidelidad?\n",
    "    b- Cuánto dinero me ahorré por la promo y cuanto por la tarjeta de fidelidad?"
   ]
  },
  {
   "cell_type": "code",
   "execution_count": null,
   "metadata": {},
   "outputs": [],
   "source": []
  },
  {
   "cell_type": "markdown",
   "metadata": {},
   "source": [
    "**5)** Para cada medida en grados a continuación, responde con la letra que corresponde al ángulo de la figura.\n",
    "\n",
    "<img  src='./figuras/EX_5.png' height='270px'>\n",
    "\n",
    "  - 30; E\n",
    "  - 45; F\n",
    "  - 60; A\n",
    "  - 90; B\n",
    "  - 150; C\n",
    "  - 120; H\n",
    "  - 180; D\n",
    "  - 90; G"
   ]
  },
  {
   "cell_type": "markdown",
   "metadata": {},
   "source": [
    "**6)** Para un triángulo rectángulo de cateto_1 = 2, cateto_2= 3 e hipotenusa = 3.6, responde sobre el ángulo\n",
    "menor (redondea la respuesta a su PRIMER número decimal):\n",
    "\n",
    "    a- Cuál es su seno?\n",
    "    b- Cuál es su coseno?\n",
    "    c- Cuál es su tangente?\n",
    "\n",
    "Usando las funciones inversas en la calculadora (o bien en internet) arccos, arcsin y/o arctan, responder:\n",
    "\n",
    "    d- Cuántos grados mide el menor de los dos ángulos agudos?\n",
    "    e- Y el mayor?"
   ]
  },
  {
   "cell_type": "code",
   "execution_count": null,
   "metadata": {},
   "outputs": [],
   "source": []
  },
  {
   "cell_type": "markdown",
   "metadata": {},
   "source": [
    "**7)** Elige la opción correcta para cada caso.\n",
    "\n",
    "    a- 0 = \n",
    "        i- cos(0)\n",
    "        ii- sen(0)\n",
    "    b- 1 = \n",
    "        i- cos(0)\n",
    "        ii- sen(0)\n",
    "    c- -1 =\n",
    "        i- cos(90)\n",
    "        ii- sen(270)\n",
    "    d- 0 =\n",
    "        i- cos(180)\n",
    "        ii- tg(180)"
   ]
  },
  {
   "cell_type": "code",
   "execution_count": null,
   "metadata": {},
   "outputs": [],
   "source": []
  },
  {
   "cell_type": "markdown",
   "metadata": {},
   "source": [
    "**8)** Responde V o F.\n",
    "\n",
    "    a- log(3+4) = log(7)\n",
    "    b- log(20) = log(10)+log(10)\n",
    "    c- 2*log(5) = log(25)\n",
    "    d- log(24) - 3*log(2) = log(3)"
   ]
  },
  {
   "cell_type": "code",
   "execution_count": null,
   "metadata": {},
   "outputs": [],
   "source": []
  },
  {
   "cell_type": "markdown",
   "metadata": {},
   "source": [
    "**9)** Para cada gráfica, responde si V o F \"es función\":\n",
    "\n",
    "<img  src='./figuras/EX_9.png' height='270px'>\n",
    "<img  src='./figuras/EX_9b.png' height='150px'>"
   ]
  },
  {
   "cell_type": "markdown",
   "metadata": {},
   "source": [
    "**10)** Para cada tabla, elige la función correspondiente.\n",
    "\n",
    "\n",
    "<img  src='./figuras/EX_10.png' height='170px'>\n",
    "\n",
    "    -A \n",
    "        i- f(x)= 4*x+1\n",
    "        ii- f(x)= 3*x+2\n",
    "        iii- f(x)= 3*x+1\n",
    "        iv- f(x)= 5*x\n",
    "\n",
    "    -B \n",
    "        i- f(x)= 2*x\n",
    "        ii- f(x)= x^2+1\n",
    "        iii- f(x)= 4*x\n",
    "        iv- f(x)= x^2\n",
    "\n",
    "    -C \n",
    "        i- f(x)= x/3\n",
    "        ii- f(x)= x/2 + 1\n",
    "        iii- f(x)= 0.5 * x\n",
    "        iv- f(x)= 0.3 * x + 2"
   ]
  },
  {
   "cell_type": "markdown",
   "metadata": {},
   "source": [
    "**11)** Sobre las funciones del ejercicio anterior, responde V o F.\n",
    "\n",
    "    -A  \n",
    "        - pendiente = 4\n",
    "        - ordenada al origen = 2\n",
    "        - no es una recta\n",
    "\n",
    "    -B  \n",
    "        - pendiente = 2\n",
    "        - ordenada al origen = 0\n",
    "        - no es una recta\n",
    "\n",
    "    -C  \n",
    "        - pendiente = 0.5\n",
    "        - ordenada al origen = 1\n",
    "        - no es una recta"
   ]
  },
  {
   "cell_type": "markdown",
   "metadata": {},
   "source": [
    "**12)** Calcula la pendiente y ordenada al origen de la siguiente recta:\n",
    "\n",
    "<img  src='./figuras/EX_12.png' height='270px'>"
   ]
  },
  {
   "cell_type": "code",
   "execution_count": null,
   "metadata": {},
   "outputs": [],
   "source": []
  }
 ],
 "metadata": {
  "kernelspec": {
   "display_name": "Python 3.9.12 ('base')",
   "language": "python",
   "name": "python3"
  },
  "language_info": {
   "codemirror_mode": {
    "name": "ipython",
    "version": 3
   },
   "file_extension": ".py",
   "mimetype": "text/x-python",
   "name": "python",
   "nbconvert_exporter": "python",
   "pygments_lexer": "ipython3",
   "version": "3.9.12"
  },
  "orig_nbformat": 4,
  "vscode": {
   "interpreter": {
    "hash": "f71dd4705a736018957681c456fcc6da9f5cf1a960a30170a8f06a1681403c6a"
   }
  }
 },
 "nbformat": 4,
 "nbformat_minor": 2
}

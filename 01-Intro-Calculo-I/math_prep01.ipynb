{
 "cells": [
  {
   "cell_type": "markdown",
   "metadata": {},
   "source": [
    "**1)** Responde para cada número con N, E, Re, Ra o I según sea Naturales, Enteros, Reales,\n",
    "Racionales o Irracionales. Responder con la categoría más restrictiva, ej: 1 -> R: N.\n",
    "\n",
    "\n",
    "    a- 198; N\n",
    "    b- 4; N\n",
    "    c- -3.1; I\n",
    "    d- -1/4; Ra\n",
    "    e- 10.0; Ra\n",
    "    f- 2*e; I\n",
    "    g- -123.0004; I"
   ]
  },
  {
   "cell_type": "markdown",
   "metadata": {},
   "source": [
    "**2)** Calcula los siguientes porcentajes y y redondea la respuesta a su PRIMER número decimal\n",
    "\n",
    "    a- 30% de 2000 \n",
    "    b- 2000% de 30\n",
    "    c- 10% de 150\n",
    "    d- 25.5% de 27\n",
    "    e- 25.5% de 0.9"
   ]
  },
  {
   "cell_type": "code",
   "execution_count": 10,
   "metadata": {},
   "outputs": [
    {
     "name": "stdout",
     "output_type": "stream",
     "text": [
      "a)  600\n",
      "b)  600\n",
      "c) 15.0\n",
      "d)  7\n",
      "e) 0.2\n"
     ]
    }
   ],
   "source": [
    "# a) \n",
    "\n",
    "a = .3*2000\n",
    "a = round(a)\n",
    "print('a) ',a)\n",
    "\n",
    "# b)\n",
    "\n",
    "b = 20*30\n",
    "print('b) ',b)\n",
    "\n",
    "# c)\n",
    "\n",
    "c = .1*150\n",
    "print('c)', c)\n",
    "\n",
    "# d)\n",
    "\n",
    "d = 0.255*27\n",
    "d = round(d)\n",
    "print('d) ', d)\n",
    "\n",
    "# e)\n",
    "\n",
    "e = .255*0.9\n",
    "e = round(e,1)\n",
    "print('e)',e)"
   ]
  },
  {
   "cell_type": "markdown",
   "metadata": {},
   "source": [
    "**3)** Calcula la relación porcentual entre los siguientes números y redondea la respuesta a su PRIMER número decimal. Ej: X% de 20 es 2 -> R: 10\n",
    "\n",
    "    a- X% de 150 es 50\n",
    "    b- X% de 4.0 es 100.0\n",
    "    c- X% de 16/4 es 2\n",
    "    d- X% de 10*Pi es 2*Pi\n",
    "    e- X% de 3500 es 2500"
   ]
  },
  {
   "cell_type": "code",
   "execution_count": 2,
   "metadata": {},
   "outputs": [
    {
     "name": "stdout",
     "output_type": "stream",
     "text": [
      "a -  33.33333333333333 %\n",
      "b -  2500.0 %\n",
      "c -  50.0 %\n",
      "d -  500.0 %\n",
      "e -  71.42857142857143 %\n"
     ]
    }
   ],
   "source": [
    "import math as m\n",
    "# a)\n",
    "print('a - ',100*(50/150),'%')\n",
    "\n",
    "# b)\n",
    "print('b - ',100*(100/4),'%')\n",
    "\n",
    "# c)\n",
    "print('c - ',100*2/(16/4),'%')\n",
    "\n",
    "# d)\n",
    "print('d - ',100*((10*m.pi)/(2*m.pi)),'%')\n",
    "\n",
    "# e)\n",
    "print('e - ',100*(2500/3500),'%')"
   ]
  },
  {
   "cell_type": "markdown",
   "metadata": {},
   "source": [
    "**4)** De shopping compré varias prendas por un valor de 350$. Había una promo del 30% sobre la cual se aplico luego\n",
    "un descuento con la tarjeta de fidelidad. Finalmente pagué 196$. Redondea la respuesta a su PRIMER número decimal.\n",
    "\n",
    "    a- De qué porcentaje fue el descuento con la tarjeta de fidelidad?\n",
    "    b- Cuánto dinero me ahorré por la promo y cuanto por la tarjeta de fidelidad?"
   ]
  },
  {
   "cell_type": "code",
   "execution_count": 20,
   "metadata": {},
   "outputs": [
    {
     "name": "stdout",
     "output_type": "stream",
     "text": [
      "a - 20.0\n",
      "Promo: 105.0 Fidelidad: 49.0\n",
      "Total: 154\n"
     ]
    }
   ],
   "source": [
    "# a)\n",
    "\n",
    "print('a -', 100-100*(196/((350-(0.3*350)))))\n",
    "\n",
    "# b)\n",
    "\n",
    "print('Promo:',(0.3*350),'Fidelidad:',245*.2)\n",
    "\n",
    "print('Total:',105+49)"
   ]
  },
  {
   "cell_type": "markdown",
   "metadata": {},
   "source": [
    "**5)** Para cada medida en grados a continuación, responde con la letra que corresponde al ángulo de la figura.\n",
    "\n",
    "<img  src='./figuras/EX_5.png' height='270px'>\n",
    "\n",
    "  - 30; E\n",
    "  - 45; F\n",
    "  - 60; A\n",
    "  - 90; B\n",
    "  - 150; C\n",
    "  - 120; H\n",
    "  - 180; D\n",
    "  - 90; G"
   ]
  },
  {
   "cell_type": "markdown",
   "metadata": {},
   "source": [
    "**6)** Para un triángulo rectángulo de cateto_1 = 2, cateto_2= 3 e hipotenusa = 3.6, responde sobre el ángulo\n",
    "menor (redondea la respuesta a su PRIMER número decimal):\n",
    "\n",
    "    a- Cuál es su seno?\n",
    "    b- Cuál es su coseno?\n",
    "    c- Cuál es su tangente?\n",
    "\n",
    "Usando las funciones inversas en la calculadora (o bien en internet) arccos, arcsin y/o arctan, responder:\n",
    "\n",
    "    d- Cuántos grados mide el menor de los dos ángulos agudos?\n",
    "    e- Y el mayor?"
   ]
  },
  {
   "cell_type": "code",
   "execution_count": 30,
   "metadata": {},
   "outputs": [
    {
     "name": "stdout",
     "output_type": "stream",
     "text": [
      "Para los valores de x=2, y=3 y H=3.605551275463989: Cateto adyacente, cateto opuesto e Hipotenusa respectivamente. Tenemos los siguientes valores:\n",
      "\n",
      "El valor del sin es 0.8320502943378437\n",
      "El valor del cos es 0.5547001962252291\n",
      "El valor de la tan es 1.5\n",
      "El ángulo mayor es de arccos(x/H) = 0.982793723247329 Radianes = 56.309932474020215 Grados\n",
      "El menor es de 90 - 56.309932474020215 = 33.690067525979785 Grados\n"
     ]
    }
   ],
   "source": [
    "x = 2\n",
    "y = 3\n",
    "H = (4+9)**(1/2)\n",
    "\n",
    "si = y/H\n",
    "co = x/H\n",
    "ta = y/x\n",
    "\n",
    "arcsi = m.asin(si)\n",
    "arcco = m.acos(co)\n",
    "\n",
    "\n",
    "print(f'Para los valores de x={x}, y={y} y H={H}: Cateto adyacente, cateto opuesto '\n",
    "        f'e Hipotenusa respectivamente. Tenemos los siguientes valores:\\n')\n",
    "print('El valor del sin es', si)\n",
    "print('El valor del cos es', co)\n",
    "print('El valor de la tan es', ta)\n",
    "\n",
    "print(f'El ángulo mayor es de arccos(x/H) = {arcco} Radianes = {z} Grados')\n",
    "\n",
    "z = (arcco*180)/m.pi \n",
    "\n",
    "print(f'El menor es de 90 - {z} = {90-z} Grados' )"
   ]
  },
  {
   "cell_type": "markdown",
   "metadata": {},
   "source": [
    "**7)** Elige la opción correcta para cada caso.\n",
    "\n",
    "    a- 0 = \n",
    "        i- cos(0)\n",
    "        ii- sen(0)\n",
    "    b- 1 = \n",
    "        i- cos(0)\n",
    "        ii- sen(0)\n",
    "    c- -1 =\n",
    "        i- cos(90)\n",
    "        ii- sen(270)\n",
    "    d- 0 =\n",
    "        i- cos(180)\n",
    "        ii- tg(180)"
   ]
  },
  {
   "cell_type": "code",
   "execution_count": null,
   "metadata": {},
   "outputs": [],
   "source": []
  },
  {
   "cell_type": "markdown",
   "metadata": {},
   "source": [
    "**8)** Responde V o F.\n",
    "\n",
    "    a- log(3+4) = log(7)\n",
    "    b- log(20) = log(10)+log(10)\n",
    "    c- 2*log(5) = log(25)\n",
    "    d- log(24) - 3*log(2) = log(3)"
   ]
  },
  {
   "cell_type": "code",
   "execution_count": 2,
   "metadata": {},
   "outputs": [
    {
     "name": "stdout",
     "output_type": "stream",
     "text": [
      "a)  True\n",
      "b)  False\n",
      "c)  True\n",
      "d)  True\n"
     ]
    }
   ],
   "source": [
    "# a)\n",
    "\n",
    "print('a) ',True)\n",
    "\n",
    "# b)\n",
    "\n",
    "print('b) ',False)\n",
    "\n",
    "# c)\n",
    "\n",
    "print('c) ',True)\n",
    "\n",
    "# d)\n",
    "\n",
    "print('d) ',True)\n"
   ]
  },
  {
   "cell_type": "markdown",
   "metadata": {},
   "source": [
    "**9)** Para cada gráfica, responde si V o F \"es función\":\n",
    "\n",
    "<img  src='./figuras/EX_9.png' height='270px'>\n",
    "<img  src='./figuras/EX_9b.png' height='150px'>"
   ]
  },
  {
   "cell_type": "code",
   "execution_count": 4,
   "metadata": {},
   "outputs": [
    {
     "name": "stdout",
     "output_type": "stream",
     "text": [
      "a) True\n",
      "b) True\n",
      "c) False\n",
      "d) True\n",
      "e) False\n",
      "f) False\n",
      "g) False\n",
      "h) False\n",
      "i) True\n"
     ]
    }
   ],
   "source": [
    "F = False\n",
    "T =  True\n",
    "\n",
    "print('a)', T)\n",
    "\n",
    "print('b)', T)\n",
    "\n",
    "print('c)', F)\n",
    "\n",
    "print('d)', T)\n",
    "\n",
    "print('e)', F)\n",
    "\n",
    "print('f)', F)\n",
    "\n",
    "print('g)', F)\n",
    "\n",
    "print('h)', F)\n",
    "\n",
    "print('i)', T)"
   ]
  },
  {
   "cell_type": "markdown",
   "metadata": {},
   "source": [
    "**10)** Para cada tabla, elige la función correspondiente.\n",
    "\n",
    "\n",
    "<img  src='./figuras/EX_10.png' height='170px'>\n",
    "\n",
    "    -A \n",
    "        i- f(x)= 4*x+1\n",
    "        ii- f(x)= 3*x+2\n",
    "        iii- f(x)= 3*x+1\n",
    "        iv- f(x)= 5*x\n",
    "\n",
    "    -B \n",
    "        i- f(x)= 2*x\n",
    "        ii- f(x)= x^2+1\n",
    "        iii- f(x)= 4*x\n",
    "        iv- f(x)= x^2\n",
    "\n",
    "    -C \n",
    "        i- f(x)= x/3\n",
    "        ii- f(x)= x/2 + 1\n",
    "        iii- f(x)= 0.5 * x\n",
    "        iv- f(x)= 0.3 * x + 2"
   ]
  },
  {
   "cell_type": "code",
   "execution_count": 5,
   "metadata": {},
   "outputs": [
    {
     "name": "stdout",
     "output_type": "stream",
     "text": [
      "a) ii\n",
      "b) iv\n",
      "c) ii\n"
     ]
    }
   ],
   "source": [
    "print('a) ii')\n",
    "\n",
    "print('b) iv')\n",
    "\n",
    "print('c) ii')"
   ]
  },
  {
   "attachments": {},
   "cell_type": "markdown",
   "metadata": {},
   "source": [
    "**11)** Sobre las funciones del ejercicio anterior, responde V o F.\n",
    "\n",
    "    -A  \n",
    "        - pendiente = 4             Falso\n",
    "        - ordenada al origen = 2    Verdadero\n",
    "        - no es una recta           Falso\n",
    "\n",
    "    -B  \n",
    "        - pendiente = 2             Falso\n",
    "        - ordenada al origen = 0    Verdadero\n",
    "        - no es una recta           Verdadero\n",
    "\n",
    "    -C  \n",
    "        - pendiente = 0.5           Verdadero\n",
    "        - ordenada al origen = 1    Verdadero\n",
    "        - no es una recta           Falso"
   ]
  },
  {
   "cell_type": "markdown",
   "metadata": {},
   "source": [
    "**12)** Calcula la pendiente y ordenada al origen de la siguiente recta:\n",
    "\n",
    "<img  src='./figuras/EX_12.png' height='270px'>"
   ]
  },
  {
   "cell_type": "code",
   "execution_count": 7,
   "metadata": {},
   "outputs": [
    {
     "name": "stdout",
     "output_type": "stream",
     "text": [
      "Ordenada: 2 Pendiente: -0.5\n"
     ]
    }
   ],
   "source": [
    "dy = 0-2\n",
    "dx = 4-0\n",
    "D = dy/dx\n",
    "print('Ordenada:', 2, 'Pendiente:', D)"
   ]
  }
 ],
 "metadata": {
  "kernelspec": {
   "display_name": "Python 3.9.12 ('base')",
   "language": "python",
   "name": "python3"
  },
  "language_info": {
   "codemirror_mode": {
    "name": "ipython",
    "version": 3
   },
   "file_extension": ".py",
   "mimetype": "text/x-python",
   "name": "python",
   "nbconvert_exporter": "python",
   "pygments_lexer": "ipython3",
   "version": "3.9.12"
  },
  "orig_nbformat": 4,
  "vscode": {
   "interpreter": {
    "hash": "f71dd4705a736018957681c456fcc6da9f5cf1a960a30170a8f06a1681403c6a"
   }
  }
 },
 "nbformat": 4,
 "nbformat_minor": 2
}
